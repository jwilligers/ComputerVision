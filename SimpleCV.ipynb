{
 "cells": [
  {
   "cell_type": "markdown",
   "metadata": {},
   "source": [
    "# Hello World"
   ]
  },
  {
   "cell_type": "code",
   "execution_count": null,
   "metadata": {
    "collapsed": false
   },
   "outputs": [],
   "source": [
    "from SimpleCV import Camera,Color,Display,Image\n",
    "camera = Camera()\n",
    "disp = Display()\n",
    "while disp.isNotDone():\n",
    "    image = camera.getImage()\n",
    "    image.save(disp)\n",
    "print(\"Done\")\n",
    "exit()"
   ]
  },
  {
   "cell_type": "markdown",
   "metadata": {},
   "source": [
    "# Detect Yellow Object"
   ]
  },
  {
   "cell_type": "code",
   "execution_count": 1,
   "metadata": {
    "collapsed": false,
    "scrolled": true
   },
   "outputs": [
    {
     "name": "stdout",
     "output_type": "stream",
     "text": [
      "Done\n"
     ]
    }
   ],
   "source": [
    "from SimpleCV import Camera,Color,Display,Image\n",
    "camera = Camera()\n",
    "disp = Display()\n",
    "while disp.isNotDone():\n",
    "    image = camera.getImage()\n",
    "    yellow = image.colorDistance(Color.YELLOW).binarize(140).invert()\n",
    "    onlyYellow = image-yellow\n",
    "    onlyYellow.save(disp)\n",
    "    \n",
    "print(\"Done\")\n",
    "exit()"
   ]
  },
  {
   "cell_type": "markdown",
   "metadata": {},
   "source": [
    "# Face Detection"
   ]
  },
  {
   "cell_type": "code",
   "execution_count": null,
   "metadata": {
    "collapsed": false
   },
   "outputs": [],
   "source": [
    "from SimpleCV import *\n",
    "camera = Camera()\n",
    "disp = Display()\n",
    "segment = HaarCascade(\"face.xml\")\n",
    "\n",
    "while disp.isNotDone():\n",
    "    image = camera.getImage()\n",
    "    face = image\n",
    "    autoface = image.findHaarFeatures(segment)\n",
    "    if ( autoface is not None ):\n",
    "        face = autoface[-1].crop()\n",
    "    face.save(disp)\n",
    "print(\"Done\")\n",
    "exit()\n"
   ]
  }
 ],
 "metadata": {
  "kernelspec": {
   "display_name": "Python 2",
   "language": "python",
   "name": "python2"
  },
  "language_info": {
   "codemirror_mode": {
    "name": "ipython",
    "version": 2
   },
   "file_extension": ".py",
   "mimetype": "text/x-python",
   "name": "python",
   "nbconvert_exporter": "python",
   "pygments_lexer": "ipython2",
   "version": "2.7.9"
  }
 },
 "nbformat": 4,
 "nbformat_minor": 0
}
